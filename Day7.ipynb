{
 "cells": [
  {
   "cell_type": "code",
   "execution_count": 1,
   "id": "f77c2554-fda9-4f8f-967b-af6d81719506",
   "metadata": {},
   "outputs": [
    {
     "data": {
      "text/plain": [
       "7"
      ]
     },
     "execution_count": 1,
     "metadata": {},
     "output_type": "execute_result"
    }
   ],
   "source": [
    "3+4"
   ]
  },
  {
   "cell_type": "markdown",
   "id": "fc9822b6-41be-43d8-8574-390593d06c66",
   "metadata": {},
   "source": [
    "1. This is 1st point\n",
    "2. This is 2nd point"
   ]
  },
  {
   "cell_type": "code",
   "execution_count": 8,
   "id": "d7407b4c-881a-434b-9de3-ad1c98cff0b6",
   "metadata": {},
   "outputs": [],
   "source": [
    "import os"
   ]
  },
  {
   "cell_type": "code",
   "execution_count": 9,
   "id": "7bfd7b12-de42-47cb-abad-139e2004f24c",
   "metadata": {},
   "outputs": [
    {
     "data": {
      "text/plain": [
       "'C:\\\\Users\\\\ds208\\\\OneDrive\\\\Desktop\\\\ML'"
      ]
     },
     "execution_count": 9,
     "metadata": {},
     "output_type": "execute_result"
    }
   ],
   "source": [
    "os.getcwd()"
   ]
  },
  {
   "cell_type": "code",
   "execution_count": 10,
   "id": "7cbef4e2-f0cf-48b3-a775-8c03b04d6e3d",
   "metadata": {},
   "outputs": [],
   "source": [
    "os.mkdir('Empty_folder')"
   ]
  },
  {
   "cell_type": "code",
   "execution_count": 11,
   "id": "83296ef0-ab5b-4e48-b515-fc501564dafc",
   "metadata": {},
   "outputs": [],
   "source": [
    "#to remove folder\n",
    "os.rmdir('Empty_folder')"
   ]
  },
  {
   "cell_type": "markdown",
   "id": "6c405ddd-ab5d-4cad-9218-860011928551",
   "metadata": {},
   "source": [
    "# Random"
   ]
  },
  {
   "cell_type": "code",
   "execution_count": 12,
   "id": "79ef0fb9-0dd6-4d6a-ba57-e3ddc061f808",
   "metadata": {},
   "outputs": [],
   "source": [
    "import random"
   ]
  },
  {
   "cell_type": "code",
   "execution_count": 13,
   "id": "42757349-0365-4786-9e81-a0fe21791dc8",
   "metadata": {},
   "outputs": [
    {
     "name": "stdout",
     "output_type": "stream",
     "text": [
      "0.5404754193209406\n"
     ]
    }
   ],
   "source": [
    "val = random.random()\n",
    "print(val)"
   ]
  },
  {
   "cell_type": "code",
   "execution_count": 14,
   "id": "fc4fdddd-7538-4f7d-93b9-786de32259f3",
   "metadata": {},
   "outputs": [],
   "source": [
    "val2=random.randint(1,10)"
   ]
  },
  {
   "cell_type": "code",
   "execution_count": 16,
   "id": "f6f6a5a5-8fa3-413a-92f1-ec7ab353a3cc",
   "metadata": {},
   "outputs": [
    {
     "name": "stdout",
     "output_type": "stream",
     "text": [
      "5\n"
     ]
    }
   ],
   "source": [
    "print(val2)"
   ]
  },
  {
   "cell_type": "code",
   "execution_count": 17,
   "id": "d0584a3f-1265-451d-8985-81f60750fa7b",
   "metadata": {},
   "outputs": [
    {
     "name": "stdout",
     "output_type": "stream",
     "text": [
      "hello\n"
     ]
    }
   ],
   "source": [
    "m =['hi','hello','heyy']\n",
    "val = random.choice(m)\n",
    "print(val)"
   ]
  },
  {
   "cell_type": "code",
   "execution_count": 24,
   "id": "87df465b-2e32-49be-9407-00f2028655d5",
   "metadata": {},
   "outputs": [
    {
     "name": "stdout",
     "output_type": "stream",
     "text": [
      "['hello', 'hello', 'by']\n"
     ]
    }
   ],
   "source": [
    "m =['hi','hello','heyy','by']\n",
    "val = random.choices(m,k=3)\n",
    "print(val)"
   ]
  },
  {
   "cell_type": "code",
   "execution_count": 25,
   "id": "49c9daf6-c22c-4567-bee9-32f3e3d0c529",
   "metadata": {},
   "outputs": [
    {
     "name": "stdout",
     "output_type": "stream",
     "text": [
      "['hello', 'hi', 'by', 'heyy']\n"
     ]
    }
   ],
   "source": [
    "#Shuffle\n",
    "random.shuffle(m)\n",
    "print(m)"
   ]
  },
  {
   "cell_type": "code",
   "execution_count": null,
   "id": "ff2b17b1-7758-4fef-90a6-ad7fcf1f8b05",
   "metadata": {},
   "outputs": [],
   "source": []
  }
 ],
 "metadata": {
  "kernelspec": {
   "display_name": "Python 3.9.12 ('base')",
   "language": "python",
   "name": "python3"
  },
  "language_info": {
   "codemirror_mode": {
    "name": "ipython",
    "version": 3
   },
   "file_extension": ".py",
   "mimetype": "text/x-python",
   "name": "python",
   "nbconvert_exporter": "python",
   "pygments_lexer": "ipython3",
   "version": "3.9.12"
  },
  "vscode": {
   "interpreter": {
    "hash": "75893f92a113fc2f0bfcfff9f804d1713c412f16f6a606cf7f0b93049090ce5e"
   }
  }
 },
 "nbformat": 4,
 "nbformat_minor": 5
}
